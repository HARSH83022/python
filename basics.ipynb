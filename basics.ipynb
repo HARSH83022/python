{
 "cells": [
  {
   "cell_type": "code",
   "execution_count": 2,
   "metadata": {},
   "outputs": [
    {
     "name": "stdout",
     "output_type": "stream",
     "text": [
      "[] <class 'list'>\n"
     ]
    }
   ],
   "source": [
    "# how to initialize the list\n",
    "# lst = []  # list format\n",
    "lst = list()  # list function\n",
    "print(lst, type(lst))\n"
   ]
  },
  {
   "cell_type": "code",
   "execution_count": null,
   "metadata": {},
   "outputs": [],
   "source": []
  },
  {
   "cell_type": "code",
   "execution_count": 10,
   "metadata": {},
   "outputs": [
    {
     "name": "stdout",
     "output_type": "stream",
     "text": [
      "[2, 4, 2]\n"
     ]
    }
   ],
   "source": [
    "# operations \n",
    "lst = [2, 4]\n",
    "out = lst + [2]\n",
    "print(out)"
   ]
  },
  {
   "cell_type": "code",
   "execution_count": null,
   "metadata": {},
   "outputs": [],
   "source": [
    "# item assignment \n",
    "# item deletion \n"
   ]
  },
  {
   "cell_type": "code",
   "execution_count": 38,
   "metadata": {},
   "outputs": [
    {
     "name": "stdout",
     "output_type": "stream",
     "text": [
      "before operation 1955227104512\n"
     ]
    },
    {
     "ename": "NameError",
     "evalue": "name 'st' is not defined",
     "output_type": "error",
     "traceback": [
      "\u001b[1;31m---------------------------------------------------------------------------\u001b[0m",
      "\u001b[1;31mNameError\u001b[0m                                 Traceback (most recent call last)",
      "\u001b[1;32mf:\\Python310\\Session2023-24\\Btech2023-24\\Batch2023-24\\Programs\\list\\basics.ipynb Cell 4\u001b[0m line \u001b[0;36m6\n\u001b[0;32m      <a href='vscode-notebook-cell:/f%3A/Python310/Session2023-24/Btech2023-24/Batch2023-24/Programs/list/basics.ipynb#W3sZmlsZQ%3D%3D?line=1'>2</a>\u001b[0m \u001b[39mprint\u001b[39m(\u001b[39m'\u001b[39m\u001b[39mbefore operation\u001b[39m\u001b[39m'\u001b[39m, \u001b[39mid\u001b[39m(st))\n\u001b[0;32m      <a href='vscode-notebook-cell:/f%3A/Python310/Session2023-24/Btech2023-24/Batch2023-24/Programs/list/basics.ipynb#W3sZmlsZQ%3D%3D?line=3'>4</a>\u001b[0m \u001b[39mdel\u001b[39;00m st\n\u001b[1;32m----> <a href='vscode-notebook-cell:/f%3A/Python310/Session2023-24/Btech2023-24/Batch2023-24/Programs/list/basics.ipynb#W3sZmlsZQ%3D%3D?line=5'>6</a>\u001b[0m \u001b[39mprint\u001b[39m(\u001b[39m'\u001b[39m\u001b[39mafter operation\u001b[39m\u001b[39m'\u001b[39m, \u001b[39mid\u001b[39m(st))\n",
      "\u001b[1;31mNameError\u001b[0m: name 'st' is not defined"
     ]
    }
   ],
   "source": [
    "st = [3, 5, 'hello']\n",
    "print('before operation', id(st))\n",
    "\n",
    "del st\n",
    "\n",
    "print('after operation', id(st))\n"
   ]
  },
  {
   "cell_type": "code",
   "execution_count": 41,
   "metadata": {},
   "outputs": [
    {
     "name": "stdout",
     "output_type": "stream",
     "text": [
      "[5, 77] 1955226654848\n",
      "[3, 5, 77] 1955218806464\n"
     ]
    }
   ],
   "source": [
    "st = [3, 5, 77]\n",
    "st2 = st.copy()\n",
    "del st2[0]\n",
    "print(st2, id(st2))\n",
    "print(st, id(st))"
   ]
  },
  {
   "cell_type": "code",
   "execution_count": 56,
   "metadata": {},
   "outputs": [
    {
     "name": "stdout",
     "output_type": "stream",
     "text": [
      "4 5 "
     ]
    }
   ],
   "source": [
    "x = [4, 5, 7]\n",
    "\n",
    "for i in x:\n",
    "    print(i, end=' ')\n",
    "    del x[-1]\n"
   ]
  },
  {
   "cell_type": "code",
   "execution_count": 58,
   "metadata": {},
   "outputs": [
    {
     "name": "stdout",
     "output_type": "stream",
     "text": [
      "4 7 "
     ]
    }
   ],
   "source": [
    "x = [4, 5, 7, 3]\n",
    "for i in x:\n",
    "    print(i, end=' ')\n",
    "    del x[0]"
   ]
  },
  {
   "cell_type": "code",
   "execution_count": 6,
   "metadata": {},
   "outputs": [
    {
     "name": "stdout",
     "output_type": "stream",
     "text": [
      "[] <class 'list'>\n"
     ]
    }
   ],
   "source": [
    "# how to initialize the list\n",
    "# ls = []  # list format\n",
    "ls = list()   # list function \n",
    "print(ls, type(ls))"
   ]
  },
  {
   "cell_type": "code",
   "execution_count": 9,
   "metadata": {},
   "outputs": [
    {
     "name": "stdout",
     "output_type": "stream",
     "text": [
      "[3, 'hello', 36453576576475475745647546, (-3434+3j)] <class 'list'>\n"
     ]
    }
   ],
   "source": [
    "# list appearance with data\n",
    "lst = [3, 'hello', 36453576576475475745647546, -3434+3j]\n",
    "print(lst, type(lst))"
   ]
  },
  {
   "cell_type": "code",
   "execution_count": 13,
   "metadata": {},
   "outputs": [
    {
     "name": "stdout",
     "output_type": "stream",
     "text": [
      "2243626009136\n",
      "2243631244400\n",
      "HELLO\n"
     ]
    }
   ],
   "source": [
    "# how list is mutable \n",
    "st = 'hello'\n",
    "print(id(st))\n",
    "st = st.upper()\n",
    "print(id(st))\n",
    "print(st)"
   ]
  },
  {
   "cell_type": "code",
   "execution_count": 19,
   "metadata": {},
   "outputs": [
    {
     "name": "stdout",
     "output_type": "stream",
     "text": [
      "[3, 5, 6]\n",
      "before operation 2243659662400\n",
      "after operation 2243659662400\n",
      "['H', 'amit', 6]\n"
     ]
    }
   ],
   "source": [
    "# item assignment\n",
    "st = [3, 5, 6]\n",
    "print(st)\n",
    "print('before operation', id(st))\n",
    "st[0] = 'H'\n",
    "st[1] = 'amit'\n",
    "print('after operation', id(st))\n",
    "print(st)"
   ]
  },
  {
   "cell_type": "code",
   "execution_count": 38,
   "metadata": {},
   "outputs": [
    {
     "name": "stdout",
     "output_type": "stream",
     "text": [
      "[3, 5, 6] before operation 2243631577856\n",
      "[5, 6] after operation 2243631577856\n"
     ]
    }
   ],
   "source": [
    "# item deletion \n",
    "st = [3, 5, 6]\n",
    "\n",
    "print(st, 'before operation', id(st))\n",
    "del st[0]\n",
    "print(st, 'after operation', id(st))\n"
   ]
  },
  {
   "cell_type": "code",
   "execution_count": 39,
   "metadata": {},
   "outputs": [
    {
     "name": "stdout",
     "output_type": "stream",
     "text": [
      "[3, 5, 9, 0]\n"
     ]
    }
   ],
   "source": [
    "# list concatenation\n",
    "ls1 = [3, 5]\n",
    "ls2 = [9, 0]\n",
    "ls = ls1 + ls2 \n",
    "print(ls)\n"
   ]
  },
  {
   "cell_type": "code",
   "execution_count": 42,
   "metadata": {},
   "outputs": [
    {
     "name": "stdout",
     "output_type": "stream",
     "text": [
      "[3, 6, 3, 6]\n"
     ]
    }
   ],
   "source": [
    "# list repetition\n",
    "ls = [3, 6]\n",
    "out = ls * 2\n",
    "print(out)"
   ]
  },
  {
   "cell_type": "code",
   "execution_count": 48,
   "metadata": {},
   "outputs": [
    {
     "name": "stdout",
     "output_type": "stream",
     "text": [
      "ls [2, 6] 2243659449664\n",
      "ls2 [2, 6] 2243659699968\n"
     ]
    }
   ],
   "source": [
    "# list assignment \n",
    "ls = [2, 6]\n",
    "ls2 = ls.copy()\n",
    "print('ls', ls, id(ls))\n",
    "print('ls2', ls2, id(ls2))"
   ]
  }
 ],
 "metadata": {
  "kernelspec": {
   "display_name": "Python 3",
   "language": "python",
   "name": "python3"
  },
  "language_info": {
   "codemirror_mode": {
    "name": "ipython",
    "version": 3
   },
   "file_extension": ".py",
   "mimetype": "text/x-python",
   "name": "python",
   "nbconvert_exporter": "python",
   "pygments_lexer": "ipython3",
   "version": "3.10.7"
  },
  "orig_nbformat": 4
 },
 "nbformat": 4,
 "nbformat_minor": 2
}
