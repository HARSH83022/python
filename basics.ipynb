{
 "cells": [
  {
   "cell_type": "code",
   "execution_count": null,
   "metadata": {},
   "outputs": [],
   "source": [
    "# string: \n",
    "'''In Python, a string is a sequence of characters enclosed within either single quotes (') or double quotes (\"). \n",
    "Strings are used to represent text data and are one of the fundamental data types in Python. \n",
    "Here are some basic operations and concepts related to strings in Python '''"
   ]
  },
  {
   "cell_type": "code",
   "execution_count": 4,
   "metadata": {},
   "outputs": [
    {
     "name": "stdout",
     "output_type": "stream",
     "text": [
      "hello world <class 'str'> <class 'str'>\n",
      "True\n"
     ]
    }
   ],
   "source": [
    "# string initialization \n",
    "st = 'hello world'\n",
    "st2 = \"hello world\"\n",
    "print(st, type(st), type(st2))\n",
    "print(st == st2)"
   ]
  },
  {
   "cell_type": "code",
   "execution_count": 9,
   "metadata": {},
   "outputs": [
    {
     "name": "stdout",
     "output_type": "stream",
     "text": [
      "hello\n",
      "world\n",
      "python\n",
      "programming\n"
     ]
    }
   ],
   "source": [
    "st = '''hello\n",
    "world\n",
    "python\n",
    "programming'print(st)"
   ]
  },
  {
   "cell_type": "code",
   "execution_count": 16,
   "metadata": {},
   "outputs": [
    {
     "name": "stdout",
     "output_type": "stream",
     "text": [
      "\n",
      "Addition \n",
      "    \"of two\" \n",
      "number \n",
      "\n",
      "\n"
     ]
    }
   ],
   "source": [
    "s = '''\n",
    "Addition \n",
    "    \"of two\" \n",
    "number \n",
    "\n",
    "'''\n",
    "print(s)"
   ]
  },
  {
   "cell_type": "code",
   "execution_count": 22,
   "metadata": {},
   "outputs": [
    {
     "name": "stdout",
     "output_type": "stream",
     "text": [
      "\\n 2\n"
     ]
    }
   ],
   "source": [
    "st = \"\\\\n\"\n",
    "w = len(st)\n",
    "print(st, w)"
   ]
  },
  {
   "cell_type": "code",
   "execution_count": null,
   "metadata": {},
   "outputs": [],
   "source": []
  },
  {
   "cell_type": "code",
   "execution_count": 26,
   "metadata": {},
   "outputs": [
    {
     "name": "stdout",
     "output_type": "stream",
     "text": [
      "hello world <class 'str'>\n"
     ]
    }
   ],
   "source": [
    "# string concatenation: '+'\n",
    "st1 = 'hello'\n",
    "st2 = 'world'\n",
    "x = st1+' '+st2\n",
    "print(x, type(x))\n",
    " "
   ]
  },
  {
   "cell_type": "code",
   "execution_count": null,
   "metadata": {},
   "outputs": [],
   "source": []
  },
  {
   "cell_type": "code",
   "execution_count": 35,
   "metadata": {},
   "outputs": [
    {
     "name": "stdout",
     "output_type": "stream",
     "text": [
      "$                  $\n",
      "$$                $$\n",
      "$$$              $$$\n",
      "$$$$            $$$$\n",
      "$$$$$          $$$$$\n",
      "$$$$$$        $$$$$$\n",
      "$$$$$$$      $$$$$$$\n",
      "$$$$$$$$    $$$$$$$$\n",
      "$$$$$$$$$  $$$$$$$$$\n",
      "$$$$$$$$$$$$$$$$$$$$\n"
     ]
    }
   ],
   "source": [
    "# string repetition \n",
    "rows = 10\n",
    "for i in range(1, rows+1):\n",
    "    print('$'*i+' '*(rows-i)+' '*(rows-i)+'$'*i)"
   ]
  },
  {
   "cell_type": "code",
   "execution_count": 40,
   "metadata": {},
   "outputs": [
    {
     "name": "stdout",
     "output_type": "stream",
     "text": [
      "hellohello\n"
     ]
    }
   ],
   "source": [
    "st = 'hello'\n",
    "out =st * 2\n",
    "print(out)"
   ]
  },
  {
   "cell_type": "code",
   "execution_count": 53,
   "metadata": {},
   "outputs": [
    {
     "name": "stdout",
     "output_type": "stream",
     "text": [
      "l\n"
     ]
    }
   ],
   "source": [
    "# how to access the elements from string object \n",
    "st = 'hello python'\n",
    "# 1. indexing: get the element (char) at position\n",
    "out = st[-10]\n",
    "print(out)"
   ]
  },
  {
   "cell_type": "code",
   "execution_count": 13,
   "metadata": {},
   "outputs": [
    {
     "name": "stdout",
     "output_type": "stream",
     "text": [
      "pe\n"
     ]
    }
   ],
   "source": [
    "# slicing range: get elements with range (substring)\n",
    "# str[start:stop:step=1]\n",
    "st = 'help'\n",
    "out = st[4::-2]  # start:1 stop: 10 [10,  8,  6,  4,  2]  \n",
    "print(out)"
   ]
  },
  {
   "cell_type": "code",
   "execution_count": 18,
   "metadata": {},
   "outputs": [
    {
     "name": "stdout",
     "output_type": "stream",
     "text": [
      "1\n"
     ]
    }
   ],
   "source": [
    "# methods in String \n",
    "# 1. count(): count the number of occurance of any pattern in a string \n",
    "\n",
    "st = 'hello'\n",
    "out = st.count('ll')\n",
    "print(out)"
   ]
  },
  {
   "cell_type": "code",
   "execution_count": 26,
   "metadata": {},
   "outputs": [
    {
     "ename": "ValueError",
     "evalue": "substring not found",
     "output_type": "error",
     "traceback": [
      "\u001b[1;31m---------------------------------------------------------------------------\u001b[0m",
      "\u001b[1;31mValueError\u001b[0m                                Traceback (most recent call last)",
      "\u001b[1;32mf:\\Python310\\Session2023-24\\Btech2023-24\\Batch2023-24\\Programs\\string\\basics.ipynb Cell 14\u001b[0m line \u001b[0;36m4\n\u001b[0;32m      <a href='vscode-notebook-cell:/f%3A/Python310/Session2023-24/Btech2023-24/Batch2023-24/Programs/string/basics.ipynb#X21sZmlsZQ%3D%3D?line=1'>2</a>\u001b[0m st \u001b[39m=\u001b[39m \u001b[39m'\u001b[39m\u001b[39mhello world\u001b[39m\u001b[39m'\u001b[39m\n\u001b[0;32m      <a href='vscode-notebook-cell:/f%3A/Python310/Session2023-24/Btech2023-24/Batch2023-24/Programs/string/basics.ipynb#X21sZmlsZQ%3D%3D?line=2'>3</a>\u001b[0m ch \u001b[39m=\u001b[39m \u001b[39m'\u001b[39m\u001b[39mx\u001b[39m\u001b[39m'\u001b[39m\n\u001b[1;32m----> <a href='vscode-notebook-cell:/f%3A/Python310/Session2023-24/Btech2023-24/Batch2023-24/Programs/string/basics.ipynb#X21sZmlsZQ%3D%3D?line=3'>4</a>\u001b[0m out \u001b[39m=\u001b[39m st\u001b[39m.\u001b[39mrindex(ch)\n\u001b[0;32m      <a href='vscode-notebook-cell:/f%3A/Python310/Session2023-24/Btech2023-24/Batch2023-24/Programs/string/basics.ipynb#X21sZmlsZQ%3D%3D?line=4'>5</a>\u001b[0m \u001b[39mprint\u001b[39m(out)\n",
      "\u001b[1;31mValueError\u001b[0m: substring not found"
     ]
    }
   ],
   "source": [
    "# index()/rindex(): return index value of first match \n",
    "st = 'hello world'\n",
    "ch = 'x'\n",
    "out = st.rindex(ch)\n",
    "print(out) "
   ]
  },
  {
   "cell_type": "code",
   "execution_count": 28,
   "metadata": {},
   "outputs": [
    {
     "name": "stdout",
     "output_type": "stream",
     "text": [
      "-1\n"
     ]
    }
   ],
   "source": [
    "# find()/rfind(): return index value of first match. return -1 if match is not found\n",
    "st = 'hello world'\n",
    "ch = 'x'\n",
    "out = st.find(ch)\n",
    "print(out) "
   ]
  },
  {
   "cell_type": "code",
   "execution_count": 34,
   "metadata": {},
   "outputs": [
    {
     "name": "stdout",
     "output_type": "stream",
     "text": [
      "4 10 15 "
     ]
    }
   ],
   "source": [
    "# display all index of any char in a string \n",
    "st = 'hello python programming'\n",
    "ch = 'o'\n",
    "s = 0\n",
    "for i in range(st.count(ch)):\n",
    "    out =st.index(ch, s)\n",
    "    print(out, end=' ')\n",
    "    s = out + 1"
   ]
  },
  {
   "cell_type": "code",
   "execution_count": 54,
   "metadata": {},
   "outputs": [
    {
     "name": "stdout",
     "output_type": "stream",
     "text": [
      "['hello', 'wor', 'ld', 'Programming']\n"
     ]
    }
   ],
   "source": [
    "# split(): break the string  with given pattern \n",
    "st = 'hello\\twor        ld\\nProgramming'\n",
    "out = st.split()\n",
    "print(out)"
   ]
  },
  {
   "cell_type": "code",
   "execution_count": null,
   "metadata": {},
   "outputs": [],
   "source": [
    "# \n",
    "out = len(st)\n",
    "print()"
   ]
  },
  {
   "cell_type": "code",
   "execution_count": null,
   "metadata": {},
   "outputs": [],
   "source": [
    "# methods in String \n",
    "# 1 capitalize(): convert first char of string to upper case\n",
    "st = 'hello world'\n",
    "out = st.capitalize()\n",
    "print(out)"
   ]
  },
  {
   "cell_type": "code",
   "execution_count": 6,
   "metadata": {},
   "outputs": [
    {
     "name": "stdout",
     "output_type": "stream",
     "text": [
      "-000026363\n"
     ]
    }
   ],
   "source": [
    "# zfill(): \n",
    "st = '-26363'\n",
    "out = st.zfill(10)\n",
    "print(out)\n",
    "\n",
    "# 01:01:12\n",
    "# hh:mm:ss"
   ]
  },
  {
   "cell_type": "code",
   "execution_count": 15,
   "metadata": {},
   "outputs": [
    {
     "name": "stdout",
     "output_type": "stream",
     "text": [
      "01:01:12\n"
     ]
    }
   ],
   "source": [
    "# digital Watch \n",
    "s = 3672\n",
    "h = s // 3600\n",
    "s %= 3600\n",
    "m = s // 60\n",
    "s %= 60\n",
    "\n",
    "print(f'{str(h).zfill(2)}:{str(m).zfill(2)}:{str(s).zfill(2)}')\n",
    "# 00:00:02"
   ]
  },
  {
   "cell_type": "code",
   "execution_count": 20,
   "metadata": {},
   "outputs": [
    {
     "name": "stdout",
     "output_type": "stream",
     "text": [
      "3\n"
     ]
    }
   ],
   "source": [
    "# methods which return number \n",
    "# 1 count():\n",
    "\n",
    "st = 'hello world'\n",
    "out = st.count('l')\n",
    "print(out)\n"
   ]
  },
  {
   "cell_type": "code",
   "execution_count": 44,
   "metadata": {},
   "outputs": [
    {
     "name": "stdout",
     "output_type": "stream",
     "text": [
      "4\n",
      "7\n"
     ]
    }
   ],
   "source": [
    "# index()/rindex(): return index value of first match \n",
    "st = 'hello world'\n",
    "pt = 'o'\n",
    "start = 0\n",
    "for i in range(st.count(pt)):\n",
    "    re = st.index(pt, start)\n",
    "    print(re)\n",
    "    start = re + 1\n",
    "\n",
    "# 4 7"
   ]
  },
  {
   "cell_type": "code",
   "execution_count": 53,
   "metadata": {},
   "outputs": [
    {
     "name": "stdout",
     "output_type": "stream",
     "text": [
      "-1\n"
     ]
    }
   ],
   "source": [
    "# find()/rfind(): \n",
    "st = 'hello world'\n",
    "out = st.find('hellO ')\n",
    "print(out)"
   ]
  },
  {
   "cell_type": "code",
   "execution_count": 61,
   "metadata": {},
   "outputs": [
    {
     "name": "stdout",
     "output_type": "stream",
     "text": [
      "True\n"
     ]
    }
   ],
   "source": [
    "# bool return methods\n",
    "st = 'Hi Pradeep'\n",
    "out = st.istitle()\n",
    "print(out)"
   ]
  },
  {
   "cell_type": "code",
   "execution_count": null,
   "metadata": {},
   "outputs": [],
   "source": [
    "'''\n",
    "1\n",
    "11\n",
    "21\n",
    "1211\n",
    "3112\n",
    "132112\n",
    "'''"
   ]
  },
  {
   "cell_type": "code",
   "execution_count": null,
   "metadata": {},
   "outputs": [],
   "source": [
    "st = '1'\n",
    "while True:\n",
    "    reg = ''\n",
    "    for x in st:\n",
    "        if x not in reg:\n",
    "            ele = f'{x}{st.count(x)}'\n",
    "            print(ele)\n",
    "            reg += x\n",
    "    st = ele    "
   ]
  },
  {
   "cell_type": "code",
   "execution_count": null,
   "metadata": {},
   "outputs": [],
   "source": [
    "'''\n",
    ">>>hello\n",
    "    h : 1\n",
    "    e : 1\n",
    "    l : 2\n",
    "    o: 1\n",
    "\n",
    ">>>>banana\n",
    "    b: 1\n",
    "    a: 3\n",
    "    n: 2\n",
    "'''\n"
   ]
  },
  {
   "cell_type": "code",
   "execution_count": 31,
   "metadata": {},
   "outputs": [
    {
     "name": "stdout",
     "output_type": "stream",
     "text": [
      "1\n",
      "11\n",
      "21\n",
      "1211\n",
      "3112\n",
      "132112\n"
     ]
    }
   ],
   "source": [
    "n = 5\n",
    "st = '1'\n",
    "print(st)\n",
    "for _ in range(n):\n",
    "    \n",
    "    s = ''\n",
    "    reg = ''\n",
    "    for ch in st:\n",
    "        if ch not in reg:\n",
    "            re = st.count(ch)\n",
    "            s += f'{re}{ch}'\n",
    "            reg += ch \n",
    "        # s += '\\n'\n",
    "    print(s)\n",
    "    st = s\n",
    "\n",
    "# 1: h\n",
    "# 1: e\n",
    "# 2: l\n",
    "# 1: o"
   ]
  },
  {
   "cell_type": "code",
   "execution_count": null,
   "metadata": {},
   "outputs": [],
   "source": [
    "'hh:mm:ss'\n",
    "'''\n",
    "3672\n",
    "01:01:12\n",
    "\n",
    "12\n",
    "00:00:12\n",
    "'''"
   ]
  },
  {
   "cell_type": "code",
   "execution_count": 55,
   "metadata": {},
   "outputs": [
    {
     "name": "stdout",
     "output_type": "stream",
     "text": [
      "01:04:32\n"
     ]
    }
   ],
   "source": [
    "s = 3872\n",
    "h =str( s%(86400) // 3600)\n",
    "s = s% 3600\n",
    "m = str(s // 60)\n",
    "s =str(s% 60)\n",
    "st = f'{h.zfill(2)}:{m.zfill(2)}:{s.zfill(2)}'\n",
    "print(st)"
   ]
  },
  {
   "cell_type": "code",
   "execution_count": 1,
   "metadata": {},
   "outputs": [
    {
     "name": "stdout",
     "output_type": "stream",
     "text": [
      "result is 100\n"
     ]
    }
   ],
   "source": [
    "a = 100\n",
    "print(f'result is {a}')\n"
   ]
  },
  {
   "cell_type": "code",
   "execution_count": 2,
   "metadata": {},
   "outputs": [
    {
     "data": {
      "text/plain": [
       "'sdjasfh100jsabj'"
      ]
     },
     "execution_count": 2,
     "metadata": {},
     "output_type": "execute_result"
    }
   ],
   "source": [
    "'sdjasfh%djsabj'%100"
   ]
  },
  {
   "cell_type": "code",
   "execution_count": 46,
   "metadata": {},
   "outputs": [
    {
     "name": "stdout",
     "output_type": "stream",
     "text": [
      "-00000023232\n"
     ]
    }
   ],
   "source": [
    "st = '-23232'\n",
    "out = st.zfill(12)\n",
    "print(out)"
   ]
  },
  {
   "cell_type": "code",
   "execution_count": 10,
   "metadata": {},
   "outputs": [
    {
     "name": "stdout",
     "output_type": "stream",
     "text": [
      "['11', '2', '3333', '1', '22', '1111111']\n"
     ]
    }
   ],
   "source": [
    "\n",
    "\n",
    "\n",
    "st = '11233331221111111'\n",
    "\n",
    "ls = []\n",
    "ls.append(st[0])\n",
    "for i in range(1, len(st)):\n",
    "    if ls[-1][-1] == st[i]:\n",
    "        ls[-1] += st[i]\n",
    "    else:\n",
    "        ls.append(st[i])\n",
    "print(ls)\n",
    "\n"
   ]
  },
  {
   "cell_type": "code",
   "execution_count": null,
   "metadata": {},
   "outputs": [],
   "source": [
    "'''\n",
    ">>> hello\n",
    "    1: h\n",
    "    1: e\n",
    "    2: l\n",
    "    1: o\n",
    "1h1e2l1o\n",
    ">>> banana\n",
    "    1: b\n",
    "    3: a\n",
    "    2: n\n",
    "1b3a2n\n",
    "    '''"
   ]
  },
  {
   "cell_type": "code",
   "execution_count": 24,
   "metadata": {},
   "outputs": [
    {
     "name": "stdout",
     "output_type": "stream",
     "text": [
      "1\n",
      "11\n",
      "21\n",
      "1211\n",
      "3112\n"
     ]
    }
   ],
   "source": [
    "st = '1'\n",
    "n = 4\n",
    "s = ''\n",
    "print(st)\n",
    "while n:\n",
    "    reg = ''\n",
    "    for ch in st:\n",
    "        if ch not in reg:\n",
    "            ft = f'{st.count(ch)}{ch}'\n",
    "            s += ft\n",
    "            reg += ch\n",
    "    print(s)\n",
    "    n -= 1\n",
    "    st = s\n",
    "    s = ''\n"
   ]
  }
 ],
 "metadata": {
  "kernelspec": {
   "display_name": "Python 3",
   "language": "python",
   "name": "python3"
  },
  "language_info": {
   "codemirror_mode": {
    "name": "ipython",
    "version": 3
   },
   "file_extension": ".py",
   "mimetype": "text/x-python",
   "name": "python",
   "nbconvert_exporter": "python",
   "pygments_lexer": "ipython3",
   "version": "3.10.7"
  },
  "orig_nbformat": 4
 },
 "nbformat": 4,
 "nbformat_minor": 2
}
