{
 "cells": [
  {
   "cell_type": "code",
   "execution_count": null,
   "metadata": {},
   "outputs": [],
   "source": [
    "# loop\n",
    "'''\n",
    "1. for loop\n",
    "2. while loop\n",
    "\n",
    "'''"
   ]
  },
  {
   "cell_type": "code",
   "execution_count": 32,
   "metadata": {},
   "outputs": [
    {
     "name": "stdout",
     "output_type": "stream",
     "text": [
      "[]\n"
     ]
    }
   ],
   "source": [
    "# range(start=0, stop, step=1)\n",
    "ls = list(range(-10, -1, -10))\n",
    "print(ls)"
   ]
  },
  {
   "cell_type": "code",
   "execution_count": 15,
   "metadata": {},
   "outputs": [
    {
     "name": "stdout",
     "output_type": "stream",
     "text": [
      "decimal 10\n",
      "octal 12\n",
      "hexadecimal a\n"
     ]
    }
   ],
   "source": [
    "a = 0b1010\n",
    "print('decimal', a)\n",
    "print('octal', oct(a)[2:])\n",
    "print('hexadecimal', hex(a)[2:])"
   ]
  },
  {
   "cell_type": "code",
   "execution_count": 42,
   "metadata": {},
   "outputs": [
    {
     "name": "stdout",
     "output_type": "stream",
     "text": [
      "5 is prime number \n"
     ]
    }
   ],
   "source": [
    "num = 5\n",
    "count = 0\n",
    "for i in range(1, num+1):\n",
    "\n",
    "    if num % i == 0:\n",
    "        count = count + 1\n",
    "\n",
    "if count == 2:\n",
    "    print(num, 'is prime number ')\n",
    "else:\n",
    "    print(num, 'is not a prime')"
   ]
  },
  {
   "cell_type": "code",
   "execution_count": 24,
   "metadata": {},
   "outputs": [
    {
     "name": "stdout",
     "output_type": "stream",
     "text": [
      "[0]\n"
     ]
    }
   ],
   "source": [
    "# range(start, stop, step)\n",
    "st = range(1)\n",
    "print(list(st))"
   ]
  },
  {
   "cell_type": "code",
   "execution_count": 36,
   "metadata": {},
   "outputs": [
    {
     "name": "stdout",
     "output_type": "stream",
     "text": [
      "6 28 496 "
     ]
    }
   ],
   "source": [
    "for a in range(1, 1001):\n",
    "    s = 0\n",
    "    for i in range(1,a):\n",
    "        if a%i==0 :\n",
    "            s = s + i\n",
    "    if s==a:\n",
    "        print(a, end=' ')\n"
   ]
  },
  {
   "cell_type": "code",
   "execution_count": 13,
   "metadata": {},
   "outputs": [
    {
     "name": "stdout",
     "output_type": "stream",
     "text": [
      "2\n",
      "3\n",
      "5\n",
      "7\n",
      "count= 4\n"
     ]
    }
   ],
   "source": [
    "# display prime number upto n\n",
    "n = 10\n",
    "s = 0\n",
    "for a in range(1, n+1):\n",
    "    count=0\n",
    "    for i in range(1, a+1):\n",
    "        if a%i == 0:\n",
    "            count=count+1\n",
    "    if count==2:\n",
    "        print(a)\n",
    "        s += 1\n",
    "print('count=', s)"
   ]
  },
  {
   "cell_type": "code",
   "execution_count": 1,
   "metadata": {},
   "outputs": [
    {
     "name": "stdout",
     "output_type": "stream",
     "text": [
      "1\n"
     ]
    }
   ],
   "source": [
    "# 1.\tWrite the output for the following code\n",
    "D = {\"name\": \"Marker\", \"type\": \"Intern\"}\n",
    "H = {\"new\" : [\"age\", \"category\"], None : None}\n",
    "D[D.clear()] = D.update(H)\n",
    "print(len(D))\n"
   ]
  }
 ],
 "metadata": {
  "kernelspec": {
   "display_name": "Python 3",
   "language": "python",
   "name": "python3"
  },
  "language_info": {
   "codemirror_mode": {
    "name": "ipython",
    "version": 3
   },
   "file_extension": ".py",
   "mimetype": "text/x-python",
   "name": "python",
   "nbconvert_exporter": "python",
   "pygments_lexer": "ipython3",
   "version": "3.10.7"
  },
  "orig_nbformat": 4
 },
 "nbformat": 4,
 "nbformat_minor": 2
}
