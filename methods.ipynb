{
 "cells": [
  {
   "cell_type": "code",
   "execution_count": 4,
   "metadata": {},
   "outputs": [
    {
     "name": "stdout",
     "output_type": "stream",
     "text": [
      "[3, 6, 'hello', 100, 'world']\n"
     ]
    }
   ],
   "source": [
    "# methods in a list \n",
    "ls = [3, 6, 'hello']\n",
    "# 1. append(): use to add the item at the end of the list\n",
    "ls.append(100)\n",
    "ls.append('world')\n",
    "print(ls) "
   ]
  },
  {
   "cell_type": "code",
   "execution_count": 7,
   "metadata": {},
   "outputs": [
    {
     "name": "stdout",
     "output_type": "stream",
     "text": [
      "[3, 5, 7, 100, 200]\n"
     ]
    }
   ],
   "source": [
    "# extend(): add the elements of any seq object in a list\n",
    "ls = [3, 5, 7]\n",
    "x = [100, 200]\n",
    "ls.extend((100, 3, 5))\n",
    "print(ls)"
   ]
  },
  {
   "cell_type": "code",
   "execution_count": 29,
   "metadata": {},
   "outputs": [
    {
     "name": "stdout",
     "output_type": "stream",
     "text": [
      "2 6\n"
     ]
    }
   ],
   "source": [
    "tp, *_, u = [2, 4, 5, 6]\n",
    "print(tp, u)"
   ]
  },
  {
   "cell_type": "code",
   "execution_count": 33,
   "metadata": {},
   "outputs": [
    {
     "name": "stdout",
     "output_type": "stream",
     "text": [
      "['priyanshu', 'aryan', 'ishu']\n"
     ]
    }
   ],
   "source": [
    "ls = ['priyanshu', 'ishu', 'aryan', 'ishu']\n",
    "# remove(): to remove the item with known value \n",
    "ls.remove('ishu')\n",
    "print(ls)"
   ]
  },
  {
   "cell_type": "code",
   "execution_count": 41,
   "metadata": {},
   "outputs": [
    {
     "name": "stdout",
     "output_type": "stream",
     "text": [
      "['priyanshu', 'aryan']\n"
     ]
    }
   ],
   "source": [
    "# pop(): remove the item with index or position\n",
    "ls = ['priyanshu', 'aryan', 'ishu']\n",
    "ele = ls.pop(2)\n",
    "print('deleted item', ele)\n",
    "print(ls)"
   ]
  },
  {
   "cell_type": "code",
   "execution_count": 42,
   "metadata": {},
   "outputs": [
    {
     "name": "stdout",
     "output_type": "stream",
     "text": [
      "[]\n"
     ]
    }
   ],
   "source": [
    "ls = [3, 5, 7]\n",
    "ls.clear()\n",
    "print(ls)"
   ]
  },
  {
   "cell_type": "code",
   "execution_count": 16,
   "metadata": {},
   "outputs": [
    {
     "name": "stdout",
     "output_type": "stream",
     "text": [
      "[3, 5, 7, 8, 89, 200]\n"
     ]
    }
   ],
   "source": [
    "# insert(): to insert any object vale(item) at custom index \n",
    "# insert(index_pos, value_object)\n",
    "ls = [3, 5, 7, 8, 89]\n",
    "ls.insert(4, 200)\n",
    "print(ls)"
   ]
  },
  {
   "cell_type": "code",
   "execution_count": null,
   "metadata": {},
   "outputs": [],
   "source": [
    "ts = (3)\n",
    "print(ts)"
   ]
  }
 ],
 "metadata": {
  "kernelspec": {
   "display_name": "Python 3",
   "language": "python",
   "name": "python3"
  },
  "language_info": {
   "codemirror_mode": {
    "name": "ipython",
    "version": 3
   },
   "file_extension": ".py",
   "mimetype": "text/x-python",
   "name": "python",
   "nbconvert_exporter": "python",
   "pygments_lexer": "ipython3",
   "version": "3.12.0"
  }
 },
 "nbformat": 4,
 "nbformat_minor": 2
}
