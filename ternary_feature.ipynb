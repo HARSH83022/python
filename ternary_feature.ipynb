{
 "cells": [
  {
   "cell_type": "code",
   "execution_count": 5,
   "metadata": {},
   "outputs": [
    {
     "name": "stdout",
     "output_type": "stream",
     "text": [
      "120\n"
     ]
    }
   ],
   "source": [
    "# if-else in single line\n",
    "a = 120\n",
    "b = 12\n",
    "print(a if a > b else b)\n",
    "'''\n",
    "syntax\n",
    "return = expression1 if condition else expression2 if condition2 else expression3\n",
    "\n",
    "'''"
   ]
  },
  {
   "cell_type": "code",
   "execution_count": 8,
   "metadata": {},
   "outputs": [
    {
     "name": "stdout",
     "output_type": "stream",
     "text": [
      "Largest 2\n",
      "largest 2\n"
     ]
    }
   ],
   "source": [
    "# largest amoung three numbers \n",
    "a = 2\n",
    "b = 2\n",
    "c = 1\n",
    "if (a>=b) and (a>=c):\n",
    "    print(\"Largest\",a)\n",
    "elif (b>=a) and (b>=c):\n",
    "    print(\"largest\",b)\n",
    "else:\n",
    "    print(\"Largest\",c)\n",
    "\n",
    "out=a if (a>=b) and (a>=c) else b if (b>=a) and (b>=c) else c\n",
    "print(\"largest\",out)\n"
   ]
  },
  {
   "cell_type": "code",
   "execution_count": 33,
   "metadata": {},
   "outputs": [
    {
     "data": {
      "text/plain": [
       "'world'"
      ]
     },
     "execution_count": 33,
     "metadata": {},
     "output_type": "execute_result"
    }
   ],
   "source": [
    "# short circuit elementary \n",
    "out = 0 or 'world'\n",
    "out\n"
   ]
  },
  {
   "cell_type": "code",
   "execution_count": 25,
   "metadata": {},
   "outputs": [
    {
     "data": {
      "text/plain": [
       "False"
      ]
     },
     "execution_count": 25,
     "metadata": {},
     "output_type": "execute_result"
    }
   ],
   "source": []
  }
 ],
 "metadata": {
  "kernelspec": {
   "display_name": "Python 3",
   "language": "python",
   "name": "python3"
  },
  "language_info": {
   "codemirror_mode": {
    "name": "ipython",
    "version": 3
   },
   "file_extension": ".py",
   "mimetype": "text/x-python",
   "name": "python",
   "nbconvert_exporter": "python",
   "pygments_lexer": "ipython3",
   "version": "3.10.7"
  },
  "orig_nbformat": 4
 },
 "nbformat": 4,
 "nbformat_minor": 2
}
