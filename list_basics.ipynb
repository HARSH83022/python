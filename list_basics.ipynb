{
 "cells": [
  {
   "cell_type": "code",
   "execution_count": 4,
   "metadata": {},
   "outputs": [
    {
     "name": "stdout",
     "output_type": "stream",
     "text": [
      "[] <class 'list'>\n"
     ]
    }
   ],
   "source": [
    "# how to initialize a list\n",
    "# ls = []   # list format\n",
    "ls = list() # list function\n",
    "print(ls, type(ls))"
   ]
  },
  {
   "cell_type": "code",
   "execution_count": 5,
   "metadata": {},
   "outputs": [
    {
     "name": "stdout",
     "output_type": "stream",
     "text": [
      "[2, 3, 4, 5, 6, 7] <class 'list'>\n"
     ]
    }
   ],
   "source": [
    "# operations with list object\n",
    "\n",
    "# 1. concatenation '+'\n",
    "ls1 = [2, 3, 4]\n",
    "ls2 = [5, 6, 7]\n",
    "ls3 = ls1 + ls2\n",
    "print(ls3, type(ls3))\n"
   ]
  },
  {
   "cell_type": "code",
   "execution_count": 14,
   "metadata": {},
   "outputs": [
    {
     "name": "stdout",
     "output_type": "stream",
     "text": [
      "[] <class 'list'>\n"
     ]
    }
   ],
   "source": [
    "# 2. repetition '*'\n",
    "ls1 = [2, 'three', 4]\n",
    "out = ls1 * (2//3)\n",
    "print(out, type(out))"
   ]
  },
  {
   "cell_type": "code",
   "execution_count": null,
   "metadata": {},
   "outputs": [],
   "source": [
    "# mutablity check\n",
    "'''\n",
    "1. item assignment\n",
    "2. item deletion\n",
    "\n",
    "'''"
   ]
  },
  {
   "cell_type": "code",
   "execution_count": 15,
   "metadata": {},
   "outputs": [
    {
     "ename": "TypeError",
     "evalue": "'str' object does not support item assignment",
     "output_type": "error",
     "traceback": [
      "\u001b[1;31m---------------------------------------------------------------------------\u001b[0m",
      "\u001b[1;31mTypeError\u001b[0m                                 Traceback (most recent call last)",
      "\u001b[1;32mc:\\Users\\GLA\\Desktop\\Python\\Batch2023-24\\Programs\\list_programs\\list_basics.ipynb Cell 5\u001b[0m line \u001b[0;36m3\n\u001b[0;32m      <a href='vscode-notebook-cell:/c%3A/Users/GLA/Desktop/Python/Batch2023-24/Programs/list_programs/list_basics.ipynb#W4sZmlsZQ%3D%3D?line=0'>1</a>\u001b[0m \u001b[39m# string mutability check\u001b[39;00m\n\u001b[0;32m      <a href='vscode-notebook-cell:/c%3A/Users/GLA/Desktop/Python/Batch2023-24/Programs/list_programs/list_basics.ipynb#W4sZmlsZQ%3D%3D?line=1'>2</a>\u001b[0m s \u001b[39m=\u001b[39m \u001b[39m'\u001b[39m\u001b[39mhello\u001b[39m\u001b[39m'\u001b[39m\n\u001b[1;32m----> <a href='vscode-notebook-cell:/c%3A/Users/GLA/Desktop/Python/Batch2023-24/Programs/list_programs/list_basics.ipynb#W4sZmlsZQ%3D%3D?line=2'>3</a>\u001b[0m s[\u001b[39m0\u001b[39;49m] \u001b[39m=\u001b[39m \u001b[39m'\u001b[39m\u001b[39mH\u001b[39m\u001b[39m'\u001b[39m\n\u001b[0;32m      <a href='vscode-notebook-cell:/c%3A/Users/GLA/Desktop/Python/Batch2023-24/Programs/list_programs/list_basics.ipynb#W4sZmlsZQ%3D%3D?line=3'>4</a>\u001b[0m \u001b[39mprint\u001b[39m(s)\n",
      "\u001b[1;31mTypeError\u001b[0m: 'str' object does not support item assignment"
     ]
    }
   ],
   "source": [
    "# string mutability check\n",
    "s = 'hello'\n",
    "s[0] = 'H'\n",
    "print(s)\n",
    "\n"
   ]
  },
  {
   "cell_type": "code",
   "execution_count": 17,
   "metadata": {},
   "outputs": [
    {
     "name": "stdout",
     "output_type": "stream",
     "text": [
      "['hello', 3, 4]\n"
     ]
    }
   ],
   "source": [
    "# list mutability check\n",
    "ls = [2, 3, 4]\n",
    "ls[0] = 'hello'\n",
    "print(ls)"
   ]
  },
  {
   "cell_type": "code",
   "execution_count": 33,
   "metadata": {},
   "outputs": [
    {
     "name": "stdout",
     "output_type": "stream",
     "text": [
      "[3, 5]\n"
     ]
    }
   ],
   "source": [
    "# item deletion from list\n",
    "a = [3, 5, 'hello']\n",
    "del a[-1]\n",
    "print(a)\n",
    "\n",
    "\n"
   ]
  },
  {
   "cell_type": "code",
   "execution_count": 60,
   "metadata": {},
   "outputs": [
    {
     "name": "stdout",
     "output_type": "stream",
     "text": [
      "hi\n"
     ]
    }
   ],
   "source": [
    "# item assignment with list\n",
    "ls = [['hi', 'hello'], 3, 4]\n",
    "\n",
    "print(ls[0][1])  # ['hi', 'hello']\n",
    "\n",
    "# print(ls)\n",
    "# print(cp)\n"
   ]
  },
  {
   "cell_type": "code",
   "execution_count": null,
   "metadata": {},
   "outputs": [],
   "source": [
    "# methods in a list \n",
    "'''\n",
    "Section CF 05/10/2023 Lecture 5:00 6:00PM \n",
    "[4, 6, 9, 10, 11, 13, 15, 16, 17, 18, 19, 21, \n",
    "23, 24, 25, 27, 30, 34, 36, 39, 40, 41, 42, 43, 44, 47, \n",
    "48, 49, 50, 51, 54, 55, 57, 59, 60, 61, 63, 64]\n",
    "\n",
    "'''"
   ]
  },
  {
   "cell_type": "code",
   "execution_count": 61,
   "metadata": {},
   "outputs": [
    {
     "name": "stdout",
     "output_type": "stream",
     "text": [
      "[3, 5, 7, 8, 12, 14, 20, 22, 26, 28, 29, 31, 32, 33, 35, 37, 38, 45, 46, 52, 53, 56, 58, 62, 65]\n"
     ]
    }
   ],
   "source": [
    "ls = [58, 56, 35, 62, 3, 33, 32, 20, 8, 38, 46, 53, 52, 31, 14, 12, 7, 5, 22, 29, 65, 45, 28, 37, 26 ]\n",
    "ls.sort()\n",
    "print(ls)"
   ]
  },
  {
   "cell_type": "code",
   "execution_count": 63,
   "metadata": {},
   "outputs": [
    {
     "name": "stdout",
     "output_type": "stream",
     "text": [
      "[3, 4, 5, 6, 7, 8, 9, 10, 11, 12, 13, 14, 15, 16, 17, 18, 19, 20, 21, 22, 23, 24, 25, 26, 27, 28, 29, 30, 31, 32, 33, 34, 35, 36, 37, 38, 39, 40, 41, 42, 43, 44, 45, 46, 47, 48, 49, 50, 51, 52, 53, 54, 55, 56, 57, 58, 59, 60, 61, 62, 63, 64, 65]\n"
     ]
    }
   ],
   "source": [
    "all = list(range(3, 66))\n",
    "print(all)"
   ]
  },
  {
   "cell_type": "code",
   "execution_count": 67,
   "metadata": {},
   "outputs": [
    {
     "name": "stdout",
     "output_type": "stream",
     "text": [
      "[4, 6, 9, 10, 11, 13, 15, 16, 17, 18, 19, 21, 23, 24, 25, 27, 30, 34, 36, 39, 40, 41, 42, 43, 44, 47, 48, 49, 50, 51, 54, 55, 57, 59, 60, 61, 63, 64]\n"
     ]
    }
   ],
   "source": [
    "\n",
    "print(list(set(all) - set(ls))) "
   ]
  }
 ],
 "metadata": {
  "kernelspec": {
   "display_name": "Python 3",
   "language": "python",
   "name": "python3"
  },
  "language_info": {
   "codemirror_mode": {
    "name": "ipython",
    "version": 3
   },
   "file_extension": ".py",
   "mimetype": "text/x-python",
   "name": "python",
   "nbconvert_exporter": "python",
   "pygments_lexer": "ipython3",
   "version": "3.12.0"
  }
 },
 "nbformat": 4,
 "nbformat_minor": 2
}
