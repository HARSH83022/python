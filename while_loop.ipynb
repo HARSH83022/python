{
 "cells": [
  {
   "cell_type": "code",
   "execution_count": 3,
   "metadata": {},
   "outputs": [
    {
     "name": "stdout",
     "output_type": "stream",
     "text": [
      "hi\n",
      "hi\n"
     ]
    }
   ],
   "source": [
    "# while loop: conditional controlled loop\n",
    "'''\n",
    "while expression:\n",
    "    # body of while \n",
    "\n",
    "'''\n",
    "n = 2\n",
    "i = 1\n",
    "while i <= n: \n",
    "    print('hi')\n",
    "    i += 1\n"
   ]
  },
  {
   "cell_type": "code",
   "execution_count": 5,
   "metadata": {},
   "outputs": [
    {
     "name": "stdout",
     "output_type": "stream",
     "text": [
      "15\n"
     ]
    }
   ],
   "source": [
    "# natural sum using while\n",
    "n = 5\n",
    "i = 1\n",
    "s = 0\n",
    "while i <= n: \n",
    "    s += i\n",
    "    i += 1\n",
    "print(s)"
   ]
  },
  {
   "cell_type": "code",
   "execution_count": null,
   "metadata": {},
   "outputs": [],
   "source": [
    "# loop control statements \n",
    "'''\n",
    "break\n",
    "continue\n",
    "pass\n",
    "else (for loop and while loop)\n",
    "'''"
   ]
  },
  {
   "cell_type": "code",
   "execution_count": 23,
   "metadata": {},
   "outputs": [
    {
     "name": "stdout",
     "output_type": "stream",
     "text": [
      "h e l l o   w o r l d \n",
      "else block\n"
     ]
    }
   ],
   "source": [
    "# break: break is statement to terminate the loop (for and while)\n",
    "x = 'hello world'\n",
    "for i in x:\n",
    "    if i == 't':\n",
    "        break\n",
    "    print(i, end=' ')\n",
    "else:\n",
    "    print('\\nelse block')\n",
    "    \n",
    "\n"
   ]
  },
  {
   "cell_type": "code",
   "execution_count": 28,
   "metadata": {},
   "outputs": [
    {
     "name": "stdout",
     "output_type": "stream",
     "text": [
      "1 2 3 4 5 \n",
      "Else block\n"
     ]
    }
   ],
   "source": [
    "for i in range(1, 10):\n",
    "    if i > 5:\n",
    "        continue\n",
    "    print(i, end=' ' )\n",
    "else:\n",
    "    print('\\nElse block')    "
   ]
  },
  {
   "cell_type": "code",
   "execution_count": 1,
   "metadata": {},
   "outputs": [
    {
     "name": "stdout",
     "output_type": "stream",
     "text": [
      "hi\n",
      "hi\n",
      "hi\n",
      "hi\n",
      "hi\n"
     ]
    }
   ],
   "source": [
    "# while loop : conditional controlled loop\n",
    "'''\n",
    "syntax:\n",
    "while condition:\n",
    "    # body while \n",
    "'''\n",
    "n = 5\n",
    "i = 0\n",
    "while i < n: \n",
    "    print('hi')\n",
    "    i += 1"
   ]
  },
  {
   "cell_type": "code",
   "execution_count": 4,
   "metadata": {},
   "outputs": [
    {
     "name": "stdout",
     "output_type": "stream",
     "text": [
      "10\n"
     ]
    }
   ],
   "source": [
    "n = 4\n",
    "i = 1\n",
    "s = 0\n",
    "while i <= n:\n",
    "    s += i \n",
    "    i += 1\n",
    "print(s)\n",
    "# 15"
   ]
  },
  {
   "cell_type": "code",
   "execution_count": null,
   "metadata": {},
   "outputs": [],
   "source": [
    "c=0\n",
    "n=int(input())\n",
    "i=1\n",
    "while i<=n:\n",
    "    if n%i == 0:\n",
    "        c += 1\n",
    "    i += 1\n",
    "\n",
    "print('prime' if c == 2 else 'not a prime')\n",
    "   \n"
   ]
  },
  {
   "cell_type": "code",
   "execution_count": null,
   "metadata": {},
   "outputs": [],
   "source": [
    "# loop controlled statements \n",
    "'''\n",
    "break\n",
    "continue\n",
    "pass\n",
    "else (for loop and while loop)\n",
    "'''"
   ]
  },
  {
   "cell_type": "code",
   "execution_count": 10,
   "metadata": {},
   "outputs": [
    {
     "name": "stdout",
     "output_type": "stream",
     "text": [
      "h e l l o   w "
     ]
    }
   ],
   "source": [
    "# break: break is keyword use to terminate the loop\n",
    "x = 'hello world'\n",
    "c = 0\n",
    "for i in x:\n",
    "    if i == 'o':\n",
    "        c += 1\n",
    "    if c == 2:\n",
    "        break\n",
    "    print(i, end=' ') \n",
    "    "
   ]
  },
  {
   "cell_type": "code",
   "execution_count": 17,
   "metadata": {},
   "outputs": [
    {
     "name": "stdout",
     "output_type": "stream",
     "text": [
      "1\n"
     ]
    }
   ],
   "source": [
    "# continue:\n",
    "for i in range(1, 10):\n",
    "    print(i)\n",
    "    break\n",
    "else:\n",
    "    print('Else block')    "
   ]
  },
  {
   "cell_type": "code",
   "execution_count": 19,
   "metadata": {},
   "outputs": [
    {
     "name": "stdout",
     "output_type": "stream",
     "text": [
      "1 2 3 4 5 Else block\n"
     ]
    }
   ],
   "source": [
    "for i in range(1, 10):\n",
    "    if i > 5:\n",
    "        continue\n",
    "    print(i, end=' ')\n",
    "else:\n",
    "    print('Else block')    "
   ]
  }
 ],
 "metadata": {
  "kernelspec": {
   "display_name": "Python 3",
   "language": "python",
   "name": "python3"
  },
  "language_info": {
   "codemirror_mode": {
    "name": "ipython",
    "version": 3
   },
   "file_extension": ".py",
   "mimetype": "text/x-python",
   "name": "python",
   "nbconvert_exporter": "python",
   "pygments_lexer": "ipython3",
   "version": "3.10.7"
  },
  "orig_nbformat": 4
 },
 "nbformat": 4,
 "nbformat_minor": 2
}
