{
 "cells": [
  {
   "cell_type": "code",
   "execution_count": null,
   "metadata": {},
   "outputs": [],
   "source": [
    "# loopping : \n",
    "'''\n",
    "1. sequential\n",
    "2. selection\n",
    "3. iteration orlooping \n",
    "\n",
    "'''"
   ]
  },
  {
   "cell_type": "code",
   "execution_count": 35,
   "metadata": {},
   "outputs": [
    {
     "name": "stdout",
     "output_type": "stream",
     "text": [
      "15\n"
     ]
    }
   ],
   "source": [
    "'''\n",
    "loop in Python\n",
    "1. for loop: iteration over the sequential data (object)\n",
    "2. while loop\n",
    "'''\n",
    "n = 5\n",
    "s = 0\n",
    "for i in range(1, n+1):\n",
    "    s = s + i\n",
    "print(s)\n"
   ]
  },
  {
   "cell_type": "code",
   "execution_count": 30,
   "metadata": {},
   "outputs": [
    {
     "name": "stdout",
     "output_type": "stream",
     "text": [
      "[-1, -3, -5, -7, -9]\n"
     ]
    }
   ],
   "source": [
    "# range(start=0, stop, step=1)\n",
    "ls = range(-1, -10, -2)  \n",
    "print(list(ls))"
   ]
  },
  {
   "cell_type": "code",
   "execution_count": 55,
   "metadata": {},
   "outputs": [
    {
     "name": "stdout",
     "output_type": "stream",
     "text": [
      "9 is not prime \n"
     ]
    }
   ],
   "source": [
    "# divisors sum of given numbers \n",
    "n = 9\n",
    "count = 0\n",
    "for val in range(1, n):\n",
    "    if n % val == 0:\n",
    "        count = count + val\n",
    "if count == n:\n",
    "    \n",
    "\n",
    "\n"
   ]
  },
  {
   "cell_type": "code",
   "execution_count": null,
   "metadata": {},
   "outputs": [],
   "source": [
    "s = 1\n",
    "s += 1\n"
   ]
  }
 ],
 "metadata": {
  "kernelspec": {
   "display_name": "Python 3",
   "language": "python",
   "name": "python3"
  },
  "language_info": {
   "codemirror_mode": {
    "name": "ipython",
    "version": 3
   },
   "file_extension": ".py",
   "mimetype": "text/x-python",
   "name": "python",
   "nbconvert_exporter": "python",
   "pygments_lexer": "ipython3",
   "version": "3.10.7"
  },
  "orig_nbformat": 4
 },
 "nbformat": 4,
 "nbformat_minor": 2
}
