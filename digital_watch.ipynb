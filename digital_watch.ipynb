{
 "cells": [
  {
   "cell_type": "code",
   "execution_count": null,
   "metadata": {},
   "outputs": [],
   "source": [
    "# hh:mm:ss\n",
    "\n",
    "'''\n",
    "example \n",
    ">>> 3672\n",
    "    01:01:12\n",
    ">>> 36\n",
    "    00:00:36[]\n",
    "'''"
   ]
  },
  {
   "cell_type": "code",
   "execution_count": 5,
   "metadata": {},
   "outputs": [
    {
     "name": "stdout",
     "output_type": "stream",
     "text": [
      "AAhelloAAA\n"
     ]
    }
   ],
   "source": [
    "# methods in string \n",
    "st = 'hello'\n",
    "out = st.center(10, 'A')\n",
    "print(out)"
   ]
  },
  {
   "cell_type": "code",
   "execution_count": 9,
   "metadata": {},
   "outputs": [
    {
     "name": "stdout",
     "output_type": "stream",
     "text": [
      "02\n"
     ]
    }
   ],
   "source": [
    "# ljust()/rjust():\n",
    "st = '2'\n",
    "out = st.rjust(2, '0')\n",
    "print(out)"
   ]
  },
  {
   "cell_type": "code",
   "execution_count": 12,
   "metadata": {},
   "outputs": [
    {
     "name": "stdout",
     "output_type": "stream",
     "text": [
      "000000000h\n"
     ]
    }
   ],
   "source": [
    "# zfill():\n",
    "st = 'h'\n",
    "out = st.zfill(10)\n",
    "print(out)"
   ]
  },
  {
   "cell_type": "code",
   "execution_count": 14,
   "metadata": {},
   "outputs": [
    {
     "name": "stdout",
     "output_type": "stream",
     "text": [
      "09:17:24\n"
     ]
    }
   ],
   "source": [
    "sec = 33444\n",
    "hr = sec // 3600\n",
    "sec %= 3600\n",
    "\n",
    "min = sec // 60\n",
    "sec %= 60\n",
    "\n",
    "print(f'{str(hr).zfill(2)}:{str(min).zfill(2)}:{str(sec).zfill(2)}')"
   ]
  },
  {
   "cell_type": "code",
   "execution_count": 19,
   "metadata": {},
   "outputs": [
    {
     "name": "stdout",
     "output_type": "stream",
     "text": [
      "Amirkhanglaacin\n"
     ]
    }
   ],
   "source": [
    "st = 'Amir.khan123@gla.ac.in'\n",
    "\n",
    "out = ''\n",
    "for i in st:\n",
    "    if 'a'<= i <= 'z' or 'A' <= i <= 'Z':\n",
    "        out += i\n",
    "print(out)"
   ]
  },
  {
   "cell_type": "code",
   "execution_count": 6,
   "metadata": {},
   "outputs": [
    {
     "name": "stdout",
     "output_type": "stream",
     "text": [
      "1\n"
     ]
    }
   ],
   "source": [
    "# methods in string which return Integer\n",
    "# 1. count(): return the frequency of a given char\n",
    "st = 'hello world'\n",
    "# st = 34\n",
    "out = st.count('lo')\n",
    "print(out)\n"
   ]
  },
  {
   "cell_type": "code",
   "execution_count": 17,
   "metadata": {},
   "outputs": [],
   "source": [
    "del print"
   ]
  },
  {
   "cell_type": "code",
   "execution_count": 39,
   "metadata": {},
   "outputs": [
    {
     "name": "stdout",
     "output_type": "stream",
     "text": [
      "4 6 7 8 10 "
     ]
    }
   ],
   "source": [
    "# 2. index()/rindex: return the index of the given pattern with first/last match\n",
    "st = 'hello oooworld'\n",
    "pt = 'o'\n",
    "val = 0\n",
    "for _ in range(st.count(pt)):\n",
    "    pos = st.index(pt, val)\n",
    "    print(pos, end=' ')\n",
    "    val = pos +  1\n",
    "\n",
    "# 4 6 7 8 10"
   ]
  },
  {
   "cell_type": "code",
   "execution_count": 44,
   "metadata": {},
   "outputs": [
    {
     "name": "stdout",
     "output_type": "stream",
     "text": [
      "0\n",
      "1\n",
      "2\n",
      "3\n",
      "4\n",
      "5\n",
      "6\n",
      "7\n",
      "8\n",
      "9\n"
     ]
    }
   ],
   "source": [
    "i = 10\n",
    "for i in range(10):\n",
    "    print(i)\n",
    "    i += 1"
   ]
  },
  {
   "cell_type": "code",
   "execution_count": 12,
   "metadata": {},
   "outputs": [],
   "source": [
    "xx = print\n",
    "print = 'hello'\n"
   ]
  },
  {
   "cell_type": "code",
   "execution_count": 48,
   "metadata": {},
   "outputs": [
    {
     "name": "stdout",
     "output_type": "stream",
     "text": [
      "h\n",
      "e\n",
      "l\n",
      "l\n",
      "o\n"
     ]
    }
   ],
   "source": [
    "x = 'hello'\n",
    "val = 1\n",
    "for i in x:\n",
    "    print(i)\n",
    "    del i"
   ]
  },
  {
   "cell_type": "code",
   "execution_count": 47,
   "metadata": {},
   "outputs": [
    {
     "name": "stdout",
     "output_type": "stream",
     "text": [
      "2858102487216\n",
      "2858102487216\n"
     ]
    }
   ],
   "source": [
    "st = 'hello'\n",
    "print(id(st))\n",
    "h = st\n",
    "print(id(h))"
   ]
  },
  {
   "cell_type": "code",
   "execution_count": 59,
   "metadata": {},
   "outputs": [
    {
     "name": "stdout",
     "output_type": "stream",
     "text": [
      "7\n"
     ]
    }
   ],
   "source": [
    "# find()/rfind(): \n",
    "st = 'hello world'\n",
    "out = st.rfind('o')\n",
    "print(out)"
   ]
  },
  {
   "cell_type": "code",
   "execution_count": 72,
   "metadata": {},
   "outputs": [
    {
     "name": "stdout",
     "output_type": "stream",
     "text": [
      "-000237627\n"
     ]
    }
   ],
   "source": [
    "# center()/ljust()/rjust()/zfill()\n",
    "st = '-237627'\n",
    "out = st.zfill(10)\n",
    "print(out)"
   ]
  },
  {
   "cell_type": "code",
   "execution_count": 1,
   "metadata": {},
   "outputs": [
    {
     "data": {
      "text/plain": [
       "'\\n1. count()\\n\\n'"
      ]
     },
     "execution_count": 1,
     "metadata": {},
     "output_type": "execute_result"
    }
   ],
   "source": [
    "# methods in string \n",
    "# 1. methods which return Intger only \n",
    "'''\n",
    "1. count()\n",
    "2. index()\n",
    "3. rindex()\n",
    "4. find()\n",
    "5. rfind()\n",
    "''' "
   ]
  },
  {
   "cell_type": "code",
   "execution_count": 17,
   "metadata": {},
   "outputs": [
    {
     "name": "stdout",
     "output_type": "stream",
     "text": [
      "2\n"
     ]
    }
   ],
   "source": [
    "# count(): return the number of ocurrance of a given pattern \n",
    "st = 'hello world'\n",
    "out = st.count('o')\n",
    "print(out)"
   ]
  },
  {
   "cell_type": "code",
   "execution_count": 32,
   "metadata": {},
   "outputs": [
    {
     "name": "stdout",
     "output_type": "stream",
     "text": [
      "7\n"
     ]
    }
   ],
   "source": [
    "# index()/rindex(): return index value of a given patten with first match\n",
    "st = 'hello world'\n",
    "out = st.rindex('o')\n",
    "print(out)"
   ]
  },
  {
   "cell_type": "code",
   "execution_count": 41,
   "metadata": {},
   "outputs": [
    {
     "name": "stdout",
     "output_type": "stream",
     "text": [
      "6 "
     ]
    }
   ],
   "source": [
    "# all index value of given pattern in a string st\n",
    "st = 'hello world'\n",
    "pt = 'world' \n",
    "val = 0\n",
    "for i in range(st.count(pt)):\n",
    "    dn = st.index(pt, val)\n",
    "    print(dn, end=' ')\n",
    "    val = dn + 1\n",
    "\n",
    "\n",
    "# 2 3 9"
   ]
  },
  {
   "cell_type": "code",
   "execution_count": 45,
   "metadata": {},
   "outputs": [
    {
     "name": "stdout",
     "output_type": "stream",
     "text": [
      "-1\n"
     ]
    }
   ],
   "source": [
    "# find()/rfind(): \n",
    "st = 'hello world'\n",
    "out = st.find('z')\n",
    "print(out)"
   ]
  },
  {
   "cell_type": "code",
   "execution_count": 47,
   "metadata": {},
   "outputs": [
    {
     "name": "stdout",
     "output_type": "stream",
     "text": [
      "Hello world\n"
     ]
    }
   ],
   "source": [
    "# capitalize(): convert letter of a string into upper case \n",
    "st = 'hello worLD'\n",
    "out = st.capitalize()\n",
    "print(out)"
   ]
  },
  {
   "cell_type": "code",
   "execution_count": 50,
   "metadata": {},
   "outputs": [
    {
     "name": "stdout",
     "output_type": "stream",
     "text": [
      "Hello 5G 45World\n"
     ]
    }
   ],
   "source": [
    "# title(): \n",
    "st = 'hello 5g 45world'\n",
    "out = st.title()\n",
    "print(out)"
   ]
  }
 ],
 "metadata": {
  "kernelspec": {
   "display_name": "Python 3",
   "language": "python",
   "name": "python3"
  },
  "language_info": {
   "codemirror_mode": {
    "name": "ipython",
    "version": 3
   },
   "file_extension": ".py",
   "mimetype": "text/x-python",
   "name": "python",
   "nbconvert_exporter": "python",
   "pygments_lexer": "ipython3",
   "version": "3.10.7"
  },
  "orig_nbformat": 4
 },
 "nbformat": 4,
 "nbformat_minor": 2
}
