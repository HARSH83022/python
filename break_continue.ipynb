{
 "cells": [
  {
   "cell_type": "code",
   "execution_count": 5,
   "metadata": {},
   "outputs": [
    {
     "name": "stdout",
     "output_type": "stream",
     "text": [
      "h\n",
      "e\n",
      "l\n",
      "l\n",
      " \n",
      "w\n",
      "r\n",
      "l\n",
      "d\n",
      "All items traversed \n"
     ]
    }
   ],
   "source": [
    "# break statement \n",
    "st  = 'hello world'\n",
    "for i in st:\n",
    "    if i == 'o':\n",
    "        continue\n",
    "    print(i)\n",
    "\n",
    "else:\n",
    "    print('All items traversed ')"
   ]
  },
  {
   "cell_type": "code",
   "execution_count": 13,
   "metadata": {},
   "outputs": [
    {
     "name": "stdout",
     "output_type": "stream",
     "text": [
      "6\n",
      "7\n",
      "8\n",
      "9\n",
      "10\n",
      "11\n",
      "All values printed \n",
      "Inside Else\n"
     ]
    }
   ],
   "source": [
    "i = 1\n",
    "while i <= 10:\n",
    "    i += 1\n",
    "    if i < 6:\n",
    "        # break\n",
    "        continue\n",
    "    print(i)\n",
    "    \n",
    "else:\n",
    "    print('All values printed ')\n",
    "    print('Inside Else')"
   ]
  },
  {
   "cell_type": "code",
   "execution_count": 15,
   "metadata": {},
   "outputs": [
    {
     "name": "stdout",
     "output_type": "stream",
     "text": [
      "120\n"
     ]
    }
   ],
   "source": [
    "n = int(input())\n",
    "res = 1\n",
    "for i in range(1, n+1):\n",
    "    res *= i\n",
    "print(res)"
   ]
  },
  {
   "cell_type": "code",
   "execution_count": null,
   "metadata": {},
   "outputs": [],
   "source": [
    "# break\n",
    "# The break statement is used to terminate a loop of any type (i. e. for and while loops). \n",
    "# It may be said that break \"jumps out\" of the loop where it was placed.\n"
   ]
  },
  {
   "cell_type": "code",
   "execution_count": null,
   "metadata": {},
   "outputs": [],
   "source": [
    "'''\n",
    "in for...else or while...else statements. \n",
    "else statements will be executed if no break is encountered during the execution of the loop.\n",
    "'''"
   ]
  },
  {
   "cell_type": "code",
   "execution_count": null,
   "metadata": {},
   "outputs": [],
   "source": [
    "# Continue\n",
    "# jump to the loop's top and continue execution with the next value"
   ]
  },
  {
   "cell_type": "code",
   "execution_count": null,
   "metadata": {},
   "outputs": [],
   "source": [
    "'''\n",
    "Write a program that reads integers (one per line) from the console until their sum is equal to 0. After that, \n",
    "the program should display the sum of the squares of all the entered numbers.\n",
    "It is guaranteed that at some point the sum of the entered numbers will be equal to 0. After that, you should stop reading the input.\n",
    "In case the first integer equals 0, just print out 0 instead of the sum of the squares.\n",
    "You only need to output the sum of the squares once.\n",
    "Example: Input:\n",
    "4\n",
    "-10\n",
    "6\n",
    "Output (the sum of squares of numbers 4, -10, and 6):   152\n",
    "Sample Input 1:\n",
    "1\n",
    "-3\n",
    "5\n",
    "-6\n",
    "-10\n",
    "13\n",
    "4\n",
    "-8\n",
    "Sample Output 1:\n",
    "340\n",
    "'''"
   ]
  },
  {
   "cell_type": "code",
   "execution_count": 24,
   "metadata": {},
   "outputs": [
    {
     "name": "stdout",
     "output_type": "stream",
     "text": [
      "default\n"
     ]
    }
   ],
   "source": [
    "match 5:\n",
    "    case 0:\n",
    "        print('hello')\n",
    "    case default:\n",
    "        print('default')"
   ]
  },
  {
   "cell_type": "code",
   "execution_count": 19,
   "metadata": {},
   "outputs": [
    {
     "data": {
      "text/plain": [
       "True"
      ]
     },
     "execution_count": 19,
     "metadata": {},
     "output_type": "execute_result"
    }
   ],
   "source": [
    "'hello'. islower()"
   ]
  },
  {
   "cell_type": "code",
   "execution_count": 25,
   "metadata": {},
   "outputs": [
    {
     "data": {
      "text/plain": [
       "5"
      ]
     },
     "execution_count": 25,
     "metadata": {},
     "output_type": "execute_result"
    }
   ],
   "source": [
    "# loop control statements \n",
    "'''\n",
    "break\n",
    "continue\n",
    "pass\n",
    "else with loop (for and while )\n",
    "'''"
   ]
  },
  {
   "cell_type": "code",
   "execution_count": 33,
   "metadata": {},
   "outputs": [
    {
     "name": "stdout",
     "output_type": "stream",
     "text": [
      "['h', 'e', 'l', 'l', 'o', ' ', 'w', 'o', 'r', 'l', 'd']\n",
      "h,e,l,l,o, ,w,o,r,l,d,"
     ]
    }
   ],
   "source": [
    "# break : \n",
    "x = 'hello world'\n",
    "for i in x:\n",
    "    if i == 'x':\n",
    "        break\n",
    "    print(i, end=',')\n",
    "\n",
    "    "
   ]
  },
  {
   "cell_type": "code",
   "execution_count": 37,
   "metadata": {},
   "outputs": [
    {
     "name": "stdout",
     "output_type": "stream",
     "text": [
      "h e l l o   w o r l d "
     ]
    }
   ],
   "source": [
    "# continue\n",
    "x = 'hello world'\n",
    "for i in x:\n",
    "    if i == 'i':\n",
    "        continue\n",
    "    print(i, end=' ')"
   ]
  },
  {
   "cell_type": "code",
   "execution_count": 41,
   "metadata": {},
   "outputs": [
    {
     "name": "stdout",
     "output_type": "stream",
     "text": [
      "1 2 3 4 "
     ]
    }
   ],
   "source": [
    "for i in range(1, 10):\n",
    "    print('always printed')\n",
    "    if i >= 5:\n",
    "        continue\n",
    "    print(i, end=' ')"
   ]
  },
  {
   "cell_type": "code",
   "execution_count": 18,
   "metadata": {},
   "outputs": [
    {
     "name": "stdout",
     "output_type": "stream",
     "text": [
      "start\n",
      "stop\n"
     ]
    }
   ],
   "source": [
    "print('start')\n",
    "while True:\n",
    "    pass\n",
    "    # continue\n",
    "    break\n",
    "    \n",
    "\n",
    "print('stop')"
   ]
  },
  {
   "cell_type": "code",
   "execution_count": 45,
   "metadata": {},
   "outputs": [
    {
     "name": "stdout",
     "output_type": "stream",
     "text": [
      "None\n"
     ]
    }
   ],
   "source": [
    "\n",
    "    \n",
    "\n",
    "\n"
   ]
  },
  {
   "cell_type": "code",
   "execution_count": 13,
   "metadata": {},
   "outputs": [
    {
     "name": "stdout",
     "output_type": "stream",
     "text": [
      "1 2 3 4 5 6 7 8 9 \n",
      "else block\n"
     ]
    }
   ],
   "source": [
    "for i in range(1, 10):\n",
    "    if i > 15:\n",
    "        break\n",
    "    print(i, end=' ')\n",
    "    \n",
    "else:\n",
    "    print('\\nelse block')"
   ]
  },
  {
   "cell_type": "code",
   "execution_count": 11,
   "metadata": {},
   "outputs": [
    {
     "name": "stdout",
     "output_type": "stream",
     "text": [
      "101 prime number\n"
     ]
    }
   ],
   "source": [
    "n = 101\n",
    "count = 0\n",
    "for i in range(2, (n//2)+1):\n",
    "    if n % i == 0:\n",
    "        print(n, 'is not prime')\n",
    "        break\n",
    "else:\n",
    "    print(n, 'prime number')\n",
    "   "
   ]
  }
 ],
 "metadata": {
  "kernelspec": {
   "display_name": "Python 3",
   "language": "python",
   "name": "python3"
  },
  "language_info": {
   "codemirror_mode": {
    "name": "ipython",
    "version": 3
   },
   "file_extension": ".py",
   "mimetype": "text/x-python",
   "name": "python",
   "nbconvert_exporter": "python",
   "pygments_lexer": "ipython3",
   "version": "3.10.7"
  },
  "orig_nbformat": 4
 },
 "nbformat": 4,
 "nbformat_minor": 2
}
