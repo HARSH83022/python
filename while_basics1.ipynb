{
 "cells": [
  {
   "cell_type": "code",
   "execution_count": 2,
   "metadata": {},
   "outputs": [
    {
     "name": "stdout",
     "output_type": "stream",
     "text": [
      "hi\n",
      "hi\n",
      "hi\n",
      "hi\n",
      "hi\n"
     ]
    }
   ],
   "source": [
    "i = 1\n",
    "while 100:\n",
    "    print('hi')\n",
    "    i = i + 1\n"
   ]
  },
  {
   "cell_type": "code",
   "execution_count": 3,
   "metadata": {},
   "outputs": [
    {
     "name": "stdout",
     "output_type": "stream",
     "text": [
      "1 2 3 4 5 6 7 8 9 10 "
     ]
    }
   ],
   "source": [
    "# print natural numbers \n",
    "n = int(input('Enter the number '))\n",
    "i = 1\n",
    "while i <= n:\n",
    "    print(i, end=' ')\n",
    "    i += 1\n"
   ]
  },
  {
   "cell_type": "code",
   "execution_count": 5,
   "metadata": {},
   "outputs": [
    {
     "name": "stdout",
     "output_type": "stream",
     "text": [
      "3628800\n"
     ]
    }
   ],
   "source": [
    "# print natural sum\n",
    "n = int(input('Enter the number '))\n",
    "i = 1\n",
    "s = 1\n",
    "while i <= n:\n",
    "    s = s * i\n",
    "    i += 1\n",
    "print(s)    \n"
   ]
  },
  {
   "cell_type": "code",
   "execution_count": 13,
   "metadata": {},
   "outputs": [
    {
     "name": "stdout",
     "output_type": "stream",
     "text": [
      "GLA Rock \n",
      "GLA Rock Rock \n",
      "GLA Rock Rock Rock \n",
      "GLA Rock Rock Rock Rock \n",
      "GLA Rock Rock Rock Rock Rock \n",
      "GLA Rock Rock Rock Rock Rock Rock \n",
      "GLA Rock Rock Rock Rock Rock Rock Rock \n",
      "GLA Rock Rock Rock Rock Rock Rock Rock Rock \n",
      "GLA Rock Rock Rock Rock Rock Rock Rock Rock Rock \n",
      "GLA Rock Rock Rock Rock Rock Rock Rock Rock Rock Rock \n"
     ]
    }
   ],
   "source": [
    "i = 1\n",
    "\n",
    "while i <= 10:\n",
    "    print('GLA', end=' ')\n",
    "    j = 1\n",
    "    while j <= i:\n",
    "        print('Rock', end=' ')\n",
    "        j += 1\n",
    "\n",
    "    print()\n",
    "    i += 1\n",
    "    "
   ]
  },
  {
   "cell_type": "code",
   "execution_count": 14,
   "metadata": {},
   "outputs": [
    {
     "name": "stdout",
     "output_type": "stream",
     "text": [
      "hi\n",
      "hi\n",
      "hi\n",
      "hi\n",
      "hi\n"
     ]
    }
   ],
   "source": [
    "i = 5\n",
    "while i > 0:\n",
    "\n",
    "    print('hi')\n",
    "    i = i - 1"
   ]
  },
  {
   "cell_type": "code",
   "execution_count": 26,
   "metadata": {},
   "outputs": [],
   "source": [
    "# 00:00:00\n",
    "h = 0\n",
    "while h<=24:\n",
    "    m = 0\n",
    "    while m!=60:\n",
    "        s = 0\n",
    "        while s!=60:\n",
    "            print(f'{h}:{m}:{s}')\n",
    "            s+=1\n",
    "        m+=1\n",
    "    h+=1\n",
    "            \n",
    "\n",
    "\n",
    "\n",
    "\n"
   ]
  },
  {
   "cell_type": "code",
   "execution_count": 25,
   "metadata": {},
   "outputs": [
    {
     "name": "stdout",
     "output_type": "stream",
     "text": [
      "value of a:      23.43n\n",
      "value of b:     333344n\n"
     ]
    }
   ],
   "source": [
    "a = 23.43\n",
    "b = 333344\n",
    "print(f'value of a: {a:>10}n')\n",
    "print(f'value of b: {b:>10}n')"
   ]
  },
  {
   "cell_type": "code",
   "execution_count": null,
   "metadata": {},
   "outputs": [],
   "source": []
  }
 ],
 "metadata": {
  "kernelspec": {
   "display_name": "Python 3",
   "language": "python",
   "name": "python3"
  },
  "language_info": {
   "codemirror_mode": {
    "name": "ipython",
    "version": 3
   },
   "file_extension": ".py",
   "mimetype": "text/x-python",
   "name": "python",
   "nbconvert_exporter": "python",
   "pygments_lexer": "ipython3",
   "version": "3.10.7"
  },
  "orig_nbformat": 4
 },
 "nbformat": 4,
 "nbformat_minor": 2
}
